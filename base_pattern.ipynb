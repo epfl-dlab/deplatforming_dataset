{
 "cells": [
  {
   "cell_type": "code",
   "execution_count": 1,
   "id": "afraid-precipitation",
   "metadata": {},
   "outputs": [],
   "source": [
    "import pandas as pd\n",
    "import gzip\n",
    "import re"
   ]
  },
  {
   "cell_type": "code",
   "execution_count": 2,
   "id": "permanent-negotiation",
   "metadata": {},
   "outputs": [],
   "source": [
    "random = pd.read_pickle(\"random.pkl\")\n",
    "news = pd.read_pickle(\"news.pkl\")"
   ]
  },
  {
   "cell_type": "code",
   "execution_count": 45,
   "id": "multiple-curtis",
   "metadata": {},
   "outputs": [
    {
     "name": "stdout",
     "output_type": "stream",
     "text": [
      "There are 1637 occurences in the random sample and 1604 in the news sample\n"
     ]
    }
   ],
   "source": [
    "print(f\"There are {len(random[random.str.contains('banned from')])} occurences in the random sample and {len(news[news.str.contains('banned from')])} in the news sample\")"
   ]
  },
  {
   "cell_type": "code",
   "execution_count": 3,
   "id": "stainless-fourth",
   "metadata": {},
   "outputs": [],
   "source": [
    "corpus = pd.concat([random, news])"
   ]
  },
  {
   "cell_type": "markdown",
   "id": "engaged-pakistan",
   "metadata": {},
   "source": [
    "## 1rst iteration using a seed pattern. retreiving the entity/platform pairs"
   ]
  },
  {
   "cell_type": "code",
   "execution_count": 4,
   "id": "speaking-northeast",
   "metadata": {},
   "outputs": [],
   "source": [
    "base_entity = \"(\\S+)(?:'m| am| was| is| are| were|) banned from\"\n",
    "base_platform = \"banned from(?: the)? (\\S+)\""
   ]
  },
  {
   "cell_type": "code",
   "execution_count": 28,
   "id": "effective-pleasure",
   "metadata": {},
   "outputs": [],
   "source": [
    "banned = []\n",
    "for l in corpus[corpus.str.contains('banned from')]:\n",
    "    ent = re.search(base_entity, l)\n",
    "    plat = re.search(base_platform, l)\n",
    "    if ent and plat:\n",
    "        banned.append([ent.group(1), plat.group(1)])\n",
    "    else:\n",
    "        pass"
   ]
  },
  {
   "cell_type": "code",
   "execution_count": 60,
   "id": "sticky-police",
   "metadata": {},
   "outputs": [
    {
     "name": "stdout",
     "output_type": "stream",
     "text": [
      "Number of entity being 'i' or 'he', 'she', 'they', 'you': 317 \n",
      "\n",
      "Out of 3040\n"
     ]
    }
   ],
   "source": [
    "pronouns = ['i','he', 'she', 'they', 'you', 'me', 'her', 'them']\n",
    "print(f\"Number of entity being 'i' or 'he', 'she', 'they', 'you': {len([a for a in banned if a[0] in pronouns])} \\n\")\n",
    "print(f\"Out of {len(banned)}\")"
   ]
  },
  {
   "cell_type": "code",
   "execution_count": 26,
   "id": "reflected-nursing",
   "metadata": {},
   "outputs": [],
   "source": [
    "base_pairs = pd.DataFrame(banned, columns = ['entity', 'platform'])"
   ]
  },
  {
   "cell_type": "code",
   "execution_count": 27,
   "id": "retained-cargo",
   "metadata": {},
   "outputs": [
    {
     "data": {
      "text/html": [
       "<div>\n",
       "<style scoped>\n",
       "    .dataframe tbody tr th:only-of-type {\n",
       "        vertical-align: middle;\n",
       "    }\n",
       "\n",
       "    .dataframe tbody tr th {\n",
       "        vertical-align: top;\n",
       "    }\n",
       "\n",
       "    .dataframe thead th {\n",
       "        text-align: right;\n",
       "    }\n",
       "</style>\n",
       "<table border=\"1\" class=\"dataframe\">\n",
       "  <thead>\n",
       "    <tr style=\"text-align: right;\">\n",
       "      <th></th>\n",
       "      <th>platform</th>\n",
       "    </tr>\n",
       "    <tr>\n",
       "      <th>entity</th>\n",
       "      <th></th>\n",
       "    </tr>\n",
       "  </thead>\n",
       "  <tbody>\n",
       "    <tr>\n",
       "      <th>be</th>\n",
       "      <td>259</td>\n",
       "    </tr>\n",
       "    <tr>\n",
       "      <th>i</th>\n",
       "      <td>223</td>\n",
       "    </tr>\n",
       "    <tr>\n",
       "      <th>been</th>\n",
       "      <td>158</td>\n",
       "    </tr>\n",
       "    <tr>\n",
       "      <th>got</th>\n",
       "      <td>145</td>\n",
       "    </tr>\n",
       "    <tr>\n",
       "      <th>get</th>\n",
       "      <td>76</td>\n",
       "    </tr>\n",
       "  </tbody>\n",
       "</table>\n",
       "</div>"
      ],
      "text/plain": [
       "        platform\n",
       "entity          \n",
       "be           259\n",
       "i            223\n",
       "been         158\n",
       "got          145\n",
       "get           76"
      ]
     },
     "execution_count": 27,
     "metadata": {},
     "output_type": "execute_result"
    }
   ],
   "source": [
    "base_pairs.groupby('entity').count().sort_values(by='platform', ascending = False).head(5)"
   ]
  },
  {
   "cell_type": "markdown",
   "id": "amber-repeat",
   "metadata": {},
   "source": [
    "## Second iteration"
   ]
  },
  {
   "cell_type": "code",
   "execution_count": 37,
   "id": "sought-brush",
   "metadata": {},
   "outputs": [
    {
     "data": {
      "text/html": [
       "<div>\n",
       "<style scoped>\n",
       "    .dataframe tbody tr th:only-of-type {\n",
       "        vertical-align: middle;\n",
       "    }\n",
       "\n",
       "    .dataframe tbody tr th {\n",
       "        vertical-align: top;\n",
       "    }\n",
       "\n",
       "    .dataframe thead th {\n",
       "        text-align: right;\n",
       "    }\n",
       "</style>\n",
       "<table border=\"1\" class=\"dataframe\">\n",
       "  <thead>\n",
       "    <tr style=\"text-align: right;\">\n",
       "      <th></th>\n",
       "      <th>entity</th>\n",
       "      <th>platform</th>\n",
       "    </tr>\n",
       "  </thead>\n",
       "  <tbody>\n",
       "    <tr>\n",
       "      <th>0</th>\n",
       "      <td>i</td>\n",
       "      <td>r/2xchromosomes</td>\n",
       "    </tr>\n",
       "    <tr>\n",
       "      <th>1</th>\n",
       "      <td>team</td>\n",
       "      <td>olympics,</td>\n",
       "    </tr>\n",
       "    <tr>\n",
       "      <th>2</th>\n",
       "      <td>temporarily</td>\n",
       "      <td>playing</td>\n",
       "    </tr>\n",
       "    <tr>\n",
       "      <th>3</th>\n",
       "      <td>me</td>\n",
       "      <td>news</td>\n",
       "    </tr>\n",
       "    <tr>\n",
       "      <th>4</th>\n",
       "      <td>get</td>\n",
       "      <td>this</td>\n",
       "    </tr>\n",
       "    <tr>\n",
       "      <th>...</th>\n",
       "      <td>...</td>\n",
       "      <td>...</td>\n",
       "    </tr>\n",
       "    <tr>\n",
       "      <th>3035</th>\n",
       "      <td>she</td>\n",
       "      <td>leaving</td>\n",
       "    </tr>\n",
       "    <tr>\n",
       "      <th>3036</th>\n",
       "      <td>woman</td>\n",
       "      <td>walmart</td>\n",
       "    </tr>\n",
       "    <tr>\n",
       "      <th>3037</th>\n",
       "      <td>millennials'</td>\n",
       "      <td>disney</td>\n",
       "    </tr>\n",
       "    <tr>\n",
       "      <th>3038</th>\n",
       "      <td>got</td>\n",
       "      <td>google</td>\n",
       "    </tr>\n",
       "    <tr>\n",
       "      <th>3039</th>\n",
       "      <td>student</td>\n",
       "      <td>school</td>\n",
       "    </tr>\n",
       "  </tbody>\n",
       "</table>\n",
       "<p>3040 rows × 2 columns</p>\n",
       "</div>"
      ],
      "text/plain": [
       "            entity         platform\n",
       "0                i  r/2xchromosomes\n",
       "1             team        olympics,\n",
       "2      temporarily          playing\n",
       "3               me             news\n",
       "4              get             this\n",
       "...            ...              ...\n",
       "3035           she          leaving\n",
       "3036         woman          walmart\n",
       "3037  millennials'           disney\n",
       "3038           got           google\n",
       "3039       student           school\n",
       "\n",
       "[3040 rows x 2 columns]"
      ]
     },
     "execution_count": 37,
     "metadata": {},
     "output_type": "execute_result"
    }
   ],
   "source": [
    "base_pairs"
   ]
  },
  {
   "cell_type": "markdown",
   "id": "injured-georgia",
   "metadata": {},
   "source": [
    "Removing all pairs for which the entity was a pronoun (317 pairs)"
   ]
  },
  {
   "cell_type": "code",
   "execution_count": 62,
   "id": "wired-stevens",
   "metadata": {},
   "outputs": [],
   "source": [
    "base_pairs_cleaned = base_pairs[base_pairs.apply(lambda x: x['entity'] not in pronouns, axis = 1)]"
   ]
  },
  {
   "cell_type": "code",
   "execution_count": null,
   "id": "dated-installation",
   "metadata": {},
   "outputs": [],
   "source": [
    "res = []\n",
    "condition = lambda x, y: base_pairs.entity[y] in x and base_pairs.platform[y] in x\n",
    "for l in corpus.iteritems():\n",
    "    if base_pairs.apply(lambda pair: pair['entity'] in l and pair['platform'] in l, axis = 1).any():\n",
    "        res.append(l)"
   ]
  },
  {
   "cell_type": "code",
   "execution_count": 11,
   "id": "protecting-awareness",
   "metadata": {},
   "outputs": [
    {
     "name": "stderr",
     "output_type": "stream",
     "text": [
      "Matplotlib is building the font cache using fc-list. This may take a moment.\n"
     ]
    }
   ],
   "source": [
    "from wordcloud import WordCloud, STOPWORDS\n",
    "import matplotlib.pyplot as plt"
   ]
  },
  {
   "cell_type": "code",
   "execution_count": null,
   "id": "simplified-macro",
   "metadata": {},
   "outputs": [],
   "source": [
    "text = ban.entity.values\n",
    "wordcloud = WordCloud(\n",
    "    width = 3000,\n",
    "    height = 2000,\n",
    "    background_color = 'white',\n",
    "    stopwords = STOPWORDS).generate(str(text))\n",
    "fig = plt.figure(\n",
    "    figsize = (40, 30),\n",
    "    facecolor = 'k',\n",
    "    edgecolor = 'k')\n",
    "plt.imshow(wordcloud, interpolation = 'bilinear')\n",
    "plt.axis('off')\n",
    "plt.tight_layout(pad=0)\n",
    "plt.show()"
   ]
  }
 ],
 "metadata": {
  "kernelspec": {
   "display_name": "Python [conda env:.conda-marie] *",
   "language": "python",
   "name": "conda-env-.conda-marie-py"
  },
  "language_info": {
   "codemirror_mode": {
    "name": "ipython",
    "version": 3
   },
   "file_extension": ".py",
   "mimetype": "text/x-python",
   "name": "python",
   "nbconvert_exporter": "python",
   "pygments_lexer": "ipython3",
   "version": "3.8.5"
  }
 },
 "nbformat": 4,
 "nbformat_minor": 5
}
