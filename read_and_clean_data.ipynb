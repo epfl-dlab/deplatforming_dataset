{
 "cells": [
  {
   "cell_type": "code",
   "execution_count": 1,
   "metadata": {},
   "outputs": [],
   "source": [
    "import pandas as pd\n",
    "import ijson\n",
    "import json\n",
    "import gzip\n",
    "import re"
   ]
  },
  {
   "cell_type": "code",
   "execution_count": 2,
   "metadata": {},
   "outputs": [],
   "source": [
    "random_submissions = \"/dlabdata1/reddit_rad/random_submissions.jsonl.gz\"\n",
    "submissions_news = \"/dlabdata1/reddit_rad/submissions_reddit_news.jsonl\""
   ]
  },
  {
   "cell_type": "code",
   "execution_count": 60,
   "metadata": {},
   "outputs": [],
   "source": [
    "data = []\n",
    "nb_errors = 0\n",
    "with open(submissions_news, 'r') as f:\n",
    "    for line in f:\n",
    "        try:\n",
    "            a = json.loads(line)\n",
    "            data.append(a['title'] + ' ' + a['selftext'])\n",
    "        except Exception as e:\n",
    "            nb_errors = nb_errors + 1\n",
    "            pass"
   ]
  },
  {
   "cell_type": "code",
   "execution_count": 61,
   "metadata": {},
   "outputs": [],
   "source": [
    "news_df = pd.Series(data, dtype = 'str', name = 'text').apply(lambda x : x.lower())"
   ]
  },
  {
   "cell_type": "code",
   "execution_count": 62,
   "metadata": {},
   "outputs": [
    {
     "name": "stdout",
     "output_type": "stream",
     "text": [
      "There are 0.2% of posts that could not be retreived\n"
     ]
    }
   ],
   "source": [
    "print(f\"There are{nb_errors*100/(len(news_df)+nb_errors): .1f}% of posts that could not be retreived\")"
   ]
  },
  {
   "cell_type": "code",
   "execution_count": 63,
   "metadata": {},
   "outputs": [],
   "source": [
    "news_df.to_pickle('news.pkl')"
   ]
  },
  {
   "cell_type": "code",
   "execution_count": 65,
   "metadata": {},
   "outputs": [
    {
     "data": {
      "text/plain": [
       "0          documentary about the pirate bay – away from k...\n",
       "1          'bueller' star busted -- irresponsible sex off...\n",
       "2          just wow...meet wim \"iceman\" hof, a man with t...\n",
       "3          firefighter cites textbook reasons for 9/11 be...\n",
       "4                          interpol warrant out for assange \n",
       "                                 ...                        \n",
       "4028478    texas: reportan tiroteo en odessa; hay varios ...\n",
       "4028479    david ortiz shooting raises questions about dr...\n",
       "4028480     erislandy lara v ramon alvarez - aug 31, on fox \n",
       "4028481    kids shot at alabama high school football game...\n",
       "4028482    shooter killed in west texas after 5 people di...\n",
       "Name: text, Length: 4028483, dtype: object"
      ]
     },
     "execution_count": 65,
     "metadata": {},
     "output_type": "execute_result"
    }
   ],
   "source": [
    "news_df"
   ]
  },
  {
   "cell_type": "code",
   "execution_count": 50,
   "metadata": {},
   "outputs": [],
   "source": [
    "data = []\n",
    "nb_errors = 0\n",
    "with gzip.open(random_submissions, 'rt') as f:\n",
    "    for line in f:\n",
    "        try:\n",
    "            a = json.loads(line)\n",
    "            data.append(a['title'] + ' ' + a['selftext'])\n",
    "        except Exception as e:\n",
    "            nb_errors = nb_errors + 1\n",
    "            pass"
   ]
  },
  {
   "cell_type": "code",
   "execution_count": 51,
   "metadata": {},
   "outputs": [],
   "source": [
    "random_df = pd.Series(data, dtype = 'str', name = 'text').apply(lambda x : x.lower())"
   ]
  },
  {
   "cell_type": "code",
   "execution_count": 52,
   "metadata": {},
   "outputs": [
    {
     "name": "stdout",
     "output_type": "stream",
     "text": [
      "There are 0.9% of posts that could not be retreived\n"
     ]
    }
   ],
   "source": [
    "print(f\"There are{nb_errors*100/(len(random_df)+nb_errors): .1f}% of posts that could not be retreived\")"
   ]
  },
  {
   "cell_type": "code",
   "execution_count": 58,
   "metadata": {},
   "outputs": [],
   "source": [
    "random_df.to_pickle(\"random.pkl\")"
   ]
  },
  {
   "cell_type": "code",
   "execution_count": 118,
   "metadata": {},
   "outputs": [
    {
     "data": {
      "text/plain": [
       "7536       til i am banned from r/2xchromosomes without h...\n",
       "17387      i'd avoid =soc= servers....on multiple instanc...\n",
       "29254      iran’s women soccer team banned from olympics,...\n",
       "33755                       banned from the roxy/ok (5 pics)\n",
       "35487      what the fuck? i log on to a 45 hour ban.i jus...\n",
       "                                 ...                        \n",
       "3576941    tifu by thinking toast would reheat in the toa...\n",
       "3580494    @afp: north korea is banned from ballistic mis...\n",
       "3587075                /u/converter-bot banned from /r/macos\n",
       "3588895    they thought they we’re going to make money th...\n",
       "3589246    shadowbanned over a month???hey, this started ...\n",
       "Length: 1637, dtype: object"
      ]
     },
     "execution_count": 118,
     "metadata": {},
     "output_type": "execute_result"
    }
   ],
   "source": [
    "random_sub[random_sub.str.contains('banned from')]"
   ]
  },
  {
   "cell_type": "code",
   "execution_count": 161,
   "metadata": {},
   "outputs": [
    {
     "name": "stdout",
     "output_type": "stream",
     "text": [
      "i\n"
     ]
    }
   ],
   "source": [
    "text = 'til i am banned from the r/2xchromosomes'\n",
    "m = re.search(\"(\\S+)(?:'m| am| was| is| are| were) banned from\", text)\n",
    "if m:\n",
    "    print(m.group(1))"
   ]
  },
  {
   "cell_type": "code",
   "execution_count": 156,
   "metadata": {},
   "outputs": [
    {
     "name": "stdout",
     "output_type": "stream",
     "text": [
      "r/2xchromosomes\n"
     ]
    }
   ],
   "source": [
    "m = re.search('banned from(?: the)? (\\S+)', text)\n",
    "if m:\n",
    "    print(m.group(1))"
   ]
  },
  {
   "cell_type": "code",
   "execution_count": 162,
   "metadata": {},
   "outputs": [],
   "source": [
    "banned = []\n",
    "for l in random_sub[random_sub.str.contains('banned from')]:\n",
    "    m1 = re.search(\"(\\S+)(?:'m| am| was| is| are| were) banned from\", l)\n",
    "    m2 = re.search('banned from(?: the)? (\\S+)', l)\n",
    "    if m1 and m2:\n",
    "        banned.append([m1.group(1), m2.group(1)])"
   ]
  },
  {
   "cell_type": "code",
   "execution_count": 163,
   "metadata": {},
   "outputs": [
    {
     "data": {
      "text/plain": [
       "[['i', 'r/2xchromosomes'],\n",
       " ['project', 'attending'],\n",
       " ['us', 'their'],\n",
       " ['account', 'accessing'],\n",
       " ['who', 'several'],\n",
       " ['he', 'it'],\n",
       " ['i', 'democraticunderground.com'],\n",
       " ['quickmeme', 'reddit'],\n",
       " ['/u/nuclear_is_good', 'this'],\n",
       " ['i', 'tera'],\n",
       " ['redditor', 'a'],\n",
       " ['individual', 'owning'],\n",
       " ['jumper', 'games'],\n",
       " ['country', 'what.cd-invite'],\n",
       " ['ad', 'tv'],\n",
       " ['i', 'battlefield'],\n",
       " ['photographers', 'russia'],\n",
       " ['and', 'france'],\n",
       " ['jahar', 'parties'],\n",
       " ['i', 'buying'],\n",
       " ['i', 'r/health'],\n",
       " ['they', 'reddit.'],\n",
       " ['cats', 'my'],\n",
       " ['i', 'hashtalk'],\n",
       " ['i', '/askhistorians'],\n",
       " ['i', '/r/giftofgames'],\n",
       " ['(i', 'rcs)'],\n",
       " ['app', 'play'],\n",
       " ['i', 'na'],\n",
       " ['i', 'using'],\n",
       " ['i', 'theredpill.'],\n",
       " ['i', 'ask'],\n",
       " ['you', '/r/sooners,'],\n",
       " ['i', 'store,'],\n",
       " ['i', 'srs.'],\n",
       " ['both', 'london'],\n",
       " ['these', 'online'],\n",
       " ['i', 'miiverse'],\n",
       " ['i', 'glpnaaaaaaaaw'],\n",
       " ['i', 'this'],\n",
       " ['hunting', 'now'],\n",
       " ['i', '/r/canada'],\n",
       " ['i', 'clanbadluckmigel'],\n",
       " ['ukip', 'pride'],\n",
       " ['emilyispro', 'twitch'],\n",
       " ['i', 'class'],\n",
       " ['comics', 'finland'],\n",
       " ['women', 'running'],\n",
       " ['i', '/r/py-'],\n",
       " ['i', 'amazon'],\n",
       " ['discogsi', 'using'],\n",
       " ['she', 'crayons'],\n",
       " ['yoko', 'stadium.'],\n",
       " ['he', 'her'],\n",
       " ['i', 'r/repsneakers...'],\n",
       " ['women', 'tax-funded'],\n",
       " ['that', 'youtube.'],\n",
       " ['i', 'scw'],\n",
       " ['left', 'simulation'],\n",
       " ['account', 'playing'],\n",
       " ['i', 'r/jillstein'],\n",
       " ['bieber', 'disneyland'],\n",
       " ['things', 'disney'],\n",
       " ['beast', 'montreal[deleted]'],\n",
       " ['kirtaner', 'something'],\n",
       " ['i', '/r/shitredditsaysgive'],\n",
       " ['it', 'all'],\n",
       " ['i', '/r/the_donald'],\n",
       " ['i', 'dks2'],\n",
       " ['i', 'liverpool'],\n",
       " ['i', 'cmd'],\n",
       " ['content', 'being'],\n",
       " ['i', 'news'],\n",
       " ['eggs', 'being'],\n",
       " ['britain', 'america'],\n",
       " ['i', '/r/conflictofinterest'],\n",
       " ['i', 'twoxchromosomes.'],\n",
       " ['that', 'this'],\n",
       " ['ver', 'reddit.'],\n",
       " ['members', 'playing'],\n",
       " ['areas', 'loitering'],\n",
       " ['it', 'being'],\n",
       " ['account', 'multiplayer.'],\n",
       " ['*d.va', 'hgc'],\n",
       " ['viewpoint', 'every'],\n",
       " ['survivor', 'returning'],\n",
       " ['i', 'a'],\n",
       " ['i', 'paladins...for'],\n",
       " ['he', 'seeing'],\n",
       " ['locker\"', 'oscars'],\n",
       " ['dragonite', 'uu,'],\n",
       " ['i', '/r/energy.'],\n",
       " ['i', 'a'],\n",
       " ['i', 'a'],\n",
       " ['universe?i', '4chan'],\n",
       " ['they', 'that'],\n",
       " ['he', 'all'],\n",
       " ['cls', 'tank'],\n",
       " ['i', '/r/brisbane'],\n",
       " ['and', 'entering'],\n",
       " ['i', '/r/politics'],\n",
       " ['hudi', '/r/politics/.'],\n",
       " ['athene', 'twitch[deleted]'],\n",
       " ['mcmasteri', '/r/cbts_stream/.'],\n",
       " ['i', '/rtwoxchromosomes'],\n",
       " ['showdowni', '/r/politics/.'],\n",
       " ['yorki', '/r/the_donald/.'],\n",
       " ['appearsi', '/r/politics/.'],\n",
       " [\"rhetoric'i\", '/r/politics/.'],\n",
       " ['she', 'being'],\n",
       " ['i', 'r/dogecoinbeg'],\n",
       " ['i', 'comp.'],\n",
       " ['i', '/wewantplates'],\n",
       " ['billsi', '/r/politics/.'],\n",
       " ['i', 'participating'],\n",
       " ['i', 'commenting'],\n",
       " ['number', 'whatsapp,'],\n",
       " ['alt-righters', 'twitter'],\n",
       " ['i', 'a'],\n",
       " ['i', 'r/formula1'],\n",
       " ['photo-ops.i', '/r/the_donald/.'],\n",
       " ['i', 'everything[removed]'],\n",
       " ['i', 'r/iama'],\n",
       " ['mapi', '/r/politics/.'],\n",
       " ['routi', '/r/politics/.'],\n",
       " ['meddlingi', '/r/politics/.'],\n",
       " ['who', 'aznidentity'],\n",
       " ['i', 'r/jokes'],\n",
       " ['majorityi', '/r/the_donald/.'],\n",
       " ['americani', '/r/freeworldnews/.'],\n",
       " ['[...]i', '/r/democrats/.'],\n",
       " ['i', '/r/imgoingtohellforthis'],\n",
       " ['fan', 'ford'],\n",
       " [\"'tornado'\", 'us'],\n",
       " ['fraternity', 'pennsylvania'],\n",
       " ['bands', 'singapore'],\n",
       " ['faces.i', '/r/politics/.'],\n",
       " ['strategisti', '/r/politics/.'],\n",
       " ['wranglingi', '/r/politics/.'],\n",
       " ['i', 'gta'],\n",
       " ['orleansi', '/r/inthenews/.'],\n",
       " ['who', 'twitter'],\n",
       " ['prisoni', '/r/worldnews/.'],\n",
       " ['simon', 'bbc'],\n",
       " ['guardiani', '/r/infrasociology/.'],\n",
       " ['systemi', '/r/bluemidterm2018/.'],\n",
       " ['cls', 'tank'],\n",
       " ['moore', 'mall'],\n",
       " ['wrongdoing...i', '/r/thenewsfeed/.'],\n",
       " ['i', 'nerdcubed'],\n",
       " ['subreddit', 'r/all'],\n",
       " ['billi', '/r/politics/.'],\n",
       " ['weaponry', 'mortal'],\n",
       " ['taunti', '/r/the_donald/.'],\n",
       " ['findsi', '/r/northkoreanews/.'],\n",
       " ['worldi', '/r/conspiracy/.'],\n",
       " ['‘ghettos’i', '/r/denmark/.'],\n",
       " ['movtive.i', '/r/conspiracy/.'],\n",
       " ['steel', '/r/globaloffensive'],\n",
       " ['cereali', '/r/nottheonion/.'],\n",
       " ['reporti', '/r/politics/.'],\n",
       " ['talksi', '/r/enoughtrumpspam/.'],\n",
       " ['ceremoniesi', '/r/uncensorednews/.'],\n",
       " ['process’i', '/r/politics/.'],\n",
       " [\"racists'i\", '/r/thenewsfeed/.'],\n",
       " ['we', 'gay'],\n",
       " [\"side'i\", '/r/nottheonion/.'],\n",
       " ['who', 'a'],\n",
       " ['officials', 'politics'],\n",
       " ['he', 'forums.'],\n",
       " ['priests', 'entering'],\n",
       " [\"honor'i\", '/r/uncensorednews/.'],\n",
       " ['racist\"i', '/r/fuckthealtright/.'],\n",
       " ['content.i', '/r/technology/.'],\n",
       " ['i', 'lsc'],\n",
       " ['provider', 'all'],\n",
       " ['him', 'twitchhes'],\n",
       " ['i', 'all'],\n",
       " ['$130,000i', '/r/politics/.'],\n",
       " ['electionsi', '/r/conspiracy/.'],\n",
       " ['womeni', '/r/politics/.'],\n",
       " ['and', 'twitter.[deleted]'],\n",
       " ['gunsi', '/r/politics/.'],\n",
       " ['pictures.i', '/r/the_donald/.'],\n",
       " ['linei', '/r/news/.'],\n",
       " ['agendai', '/r/politics/.'],\n",
       " ['gatei', '/r/the_donald/.'],\n",
       " ['claimsi', '/r/law/.'],\n",
       " ['runi', '/r/nottheonion/.'],\n",
       " ['economyi', '/r/environment/.'],\n",
       " ['resultsi', '/r/esist/.'],\n",
       " ['wsji', '/r/technology/.'],\n",
       " ['pocketi', '/r/fuckthealtright/.'],\n",
       " ['homei', '/r/the_donald/.'],\n",
       " ['that', 'r/thanosdidnothingwrong'],\n",
       " ['trumpi', '/r/thenewsfeed/.'],\n",
       " ['you', 'swiping'],\n",
       " ['spacei', '/r/technology/.'],\n",
       " ['i', 'jobmine'],\n",
       " ['football’i', '/r/politics/.'],\n",
       " ['alaska', 'youtube'],\n",
       " ['billioni', '/r/worldnews/.'],\n",
       " ['putini', '/r/the_donald/.'],\n",
       " ['drivers', 'xfinity'],\n",
       " ['battle.i', '/r/activemeasures/.'],\n",
       " ['foresti', '/r/news/.'],\n",
       " ['dealersi', '/r/politics/.'],\n",
       " ['nomineesi', '/r/politics/.'],\n",
       " ['fiverpete', 'fiver'],\n",
       " ['on-airi', '/r/politics/.'],\n",
       " ['saysi', '/r/the_donald/.'],\n",
       " ['occasion.i', '/r/trashy/.'],\n",
       " ['clips', 'lsf'],\n",
       " ['programi', '/r/usanews/.'],\n",
       " ['i', 'r/news'],\n",
       " ['up...i', '/r/marchagainsttrump/.'],\n",
       " ['i', 'steam'],\n",
       " ['i', 'r/democrats'],\n",
       " ['fansi', '/r/russia/.'],\n",
       " ['whataboutismi', '/r/politics/.'],\n",
       " ['mexicoi', '/r/the_donald/.'],\n",
       " ['why?i', 'and'],\n",
       " ['[...]i', '/r/russialago/.'],\n",
       " ['electioni', '/r/politics/.'],\n",
       " ['speciesi', '/r/thailandnews/.'],\n",
       " ['counterprotestersi', '/r/politics/.'],\n",
       " ['times', 'driving'],\n",
       " ['feelsi', '/r/politics/.'],\n",
       " ['who', 'rl'],\n",
       " ['who', 'starveio'],\n",
       " ['climate’i', '/r/politics/.'],\n",
       " ['hindsighti', '/r/politics/.'],\n",
       " ['mapi', '/r/politics/.'],\n",
       " ['i', 'r/happy'],\n",
       " ['indictmentsi', '/r/politics/.'],\n",
       " ['says.i', '/r/the_donald/.'],\n",
       " ['golfi', '/r/politics/.'],\n",
       " ['scandal', 'whitecaps'],\n",
       " ['they', 'store'],\n",
       " ['newsi', '/r/politics/.'],\n",
       " ['airstrikesi', '/r/politics/.'],\n",
       " ['truthi', '/r/the_donald/.'],\n",
       " ['operationsi', '/r/intelligencenews/.'],\n",
       " ['angeri', '/r/politics/.'],\n",
       " ['tweetsi', '/r/infrasociology/.'],\n",
       " ['kavanaughi', '/r/liberal/.'],\n",
       " ['poweri', '/r/thenewsfeed/.'],\n",
       " ['inquiryi', '/r/politics/.'],\n",
       " ['alongi', '/r/the_donald/.'],\n",
       " ['sidewalksi', '/r/news/.'],\n",
       " ['lawsi', '/r/fuckthealtright/.'],\n",
       " ['probei', '/r/politics/.'],\n",
       " ['[**seo**](https://exnoweb.com/seo-poisoning-threatens-companies.php)',\n",
       "  'search'],\n",
       " ['trumpi', '/r/politics/.'],\n",
       " ['racismi', '/r/politics/.'],\n",
       " ['who', 'r/guitar'],\n",
       " ['estimatei', '/r/politics/.'],\n",
       " ['panettiere', 'japan'],\n",
       " [\"quarterback'...i\", '/r/thenewsfeed/.'],\n",
       " ['wictor', 'twitter.'],\n",
       " ['democratsi', '/r/esist/.'],\n",
       " ['orbiti', '/r/worldnews/.'],\n",
       " ['people', 'buying'],\n",
       " [\"lives'i\", '/r/thenewsfeed/.'],\n",
       " ['advance🔥i', '/r/the_donald/.'],\n",
       " ['pennsylvaniai', '/r/pennsylvania/.'],\n",
       " ['table.i', '/r/politics/.'],\n",
       " [\"'meaningless'i\", '/r/politics/.'],\n",
       " ['faltersi', '/r/esist/.'],\n",
       " ['tattoos', 'nfl,'],\n",
       " ['sourcesi', '/r/news/.'],\n",
       " ['they', 'playing'],\n",
       " ['trumpi', '/r/politics/.'],\n",
       " ['heritagei', '/r/politics/.'],\n",
       " ['countyi', '/r/bluemidterm2018/.'],\n",
       " ['russia', 'paralympics,'],\n",
       " ['probei', '/r/politics/.'],\n",
       " ['they', 'playing'],\n",
       " ['newsi', '/r/thenewcoldwar/.'],\n",
       " ['diplomats.i', '/r/conspiracy/.'],\n",
       " ['leaderi', '/r/politics/.'],\n",
       " ['allegationsi', '/r/the_donald/.'],\n",
       " ['magazinesi', '/r/politics/.'],\n",
       " ['riflesi', '/r/news/.'],\n",
       " ['ahahahi', '/r/the_donald/.'],\n",
       " ['housei', '/r/politics/.'],\n",
       " ['shots.\"i', '/r/the_donald/.'],\n",
       " ['sourcei', '/r/northkoreanews/.'],\n",
       " ['scrutinyi', '/r/politics/.'],\n",
       " ['i', 'r/memes'],\n",
       " ['i', 'me_irl'],\n",
       " ['escalation.i', '/r/politics/.'],\n",
       " ['shootingi', '/r/news/.'],\n",
       " ['countriesi', '/r/politics/.'],\n",
       " ['order.i', '/r/the_donald/.'],\n",
       " ['anyway.i', '/r/bluemidterm2018/.'],\n",
       " ['intercepti', '/r/the_donald/.'],\n",
       " ['resultsi', '/r/politics/.'],\n",
       " ['is)i', '/r/freeworldnews/.'],\n",
       " ['chargei', '/r/the_donald/.'],\n",
       " ['shockeri', '/r/wayofthebern/.'],\n",
       " ['i', 'forums'],\n",
       " ['skilli', '/r/soccer/.'],\n",
       " ['hurti', '/r/politics/.'],\n",
       " ['motivated\"i', '/r/conservativesonly/.'],\n",
       " ['reali', '/r/politics/.'],\n",
       " ['100%)i', '/r/the_donald/.'],\n",
       " ['racesi', '/r/politics/.'],\n",
       " ['yearsi', '/r/the_donald/.'],\n",
       " ['sitei', '/r/the_donald/.'],\n",
       " [\"zone'i\", '/r/nottheonion/.'],\n",
       " ['parent.i', '/r/politics/.'],\n",
       " ['2028i', '/r/politics/.'],\n",
       " ['sterlingi', '/r/news/.'],\n",
       " ['how.i', '/r/bluemidterm2018/.'],\n",
       " ['sayi', '/r/conservative/.'],\n",
       " ['northeast...i', '/r/thenewsfeed/.'],\n",
       " ['journalists', 'entering'],\n",
       " ['i', '/r/bptmeta'],\n",
       " ['i', 'memes'],\n",
       " ['they', 'various'],\n",
       " ['uproari', '/r/worldnews/.'],\n",
       " ['he', 'pet'],\n",
       " ['(i', 'amazon'],\n",
       " ['i', 'r/memes,'],\n",
       " ['i', 'r/slaythespire'],\n",
       " ['i', 'r/furry[deleted]'],\n",
       " ['outi', '/r/the_donald/.'],\n",
       " ['toss-upi', '/r/iowa/.'],\n",
       " ['i', 'minecraft'],\n",
       " ['you', 'monastery'],\n",
       " ['i', \"children's\"],\n",
       " ['authorityi', '/r/thenewcoldwar/.'],\n",
       " ['infowars', 'their'],\n",
       " ['milo', 'australia'],\n",
       " ['i', 'something'],\n",
       " ['she', 'aer'],\n",
       " ['i', 'a'],\n",
       " ['roberson', 'nba'],\n",
       " ['nbp', 'here'],\n",
       " ['orders', 'being'],\n",
       " ['hammer', 'this'],\n",
       " ['channel', 'teenserv'],\n",
       " ['i', 'that'],\n",
       " ['album', 'all'],\n",
       " ['i', 'r/lgbt'],\n",
       " ['pelosi', 'speaking'],\n",
       " ['spray', 'being'],\n",
       " ['gb', 'anime'],\n",
       " ['they', 'us'],\n",
       " ['guy', 'wearing'],\n",
       " ['account', 'twitter'],\n",
       " ['i', 'toaster'],\n",
       " ['korea', 'ballistic']]"
      ]
     },
     "execution_count": 163,
     "metadata": {},
     "output_type": "execute_result"
    }
   ],
   "source": [
    "banned"
   ]
  },
  {
   "cell_type": "code",
   "execution_count": null,
   "metadata": {},
   "outputs": [],
   "source": []
  }
 ],
 "metadata": {
  "kernelspec": {
   "display_name": "Python 3",
   "language": "python",
   "name": "python3"
  },
  "language_info": {
   "codemirror_mode": {
    "name": "ipython",
    "version": 3
   },
   "file_extension": ".py",
   "mimetype": "text/x-python",
   "name": "python",
   "nbconvert_exporter": "python",
   "pygments_lexer": "ipython3",
   "version": "3.8.5"
  },
  "pycharm": {
   "stem_cell": {
    "cell_type": "raw",
    "metadata": {
     "collapsed": false
    },
    "source": []
   }
  }
 },
 "nbformat": 4,
 "nbformat_minor": 1
}
