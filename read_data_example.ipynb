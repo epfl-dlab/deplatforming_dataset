{
 "cells": [
  {
   "cell_type": "code",
   "execution_count": 11,
   "metadata": {},
   "outputs": [
    {
     "data": {
      "text/plain": [
       "0      Documentary about The Pirate Bay – Away From K...\n",
       "1      'Bueller' Star Busted -- Irresponsible Sex Off...\n",
       "2      Just WOW...Meet Wim \"Iceman\" Hof, a man with t...\n",
       "3      Firefighter cites textbook reasons for 9/11 be...\n",
       "4                       Interpol warrant out for Assange\n",
       "                             ...                        \n",
       "495                         Washington Criminal Lawyer\\n\n",
       "496                            Sex Crimes Attorney  \\r\\n\n",
       "497    Www.pchshareandwin.com - Get Pch.com PCHShare&...\n",
       "498    Air France black box found in deep water off B...\n",
       "499    Attorney General Eric Holder finally got fed u...\n",
       "Name: title, Length: 500, dtype: object"
      ]
     },
     "execution_count": 11,
     "metadata": {},
     "output_type": "execute_result"
    }
   ],
   "source": [
    "import pandas as pd\n",
    "\n",
    "df = pd.read_json(\"/dlabdata1/reddit_rad/submissions_reddit_news.jsonl\", lines=True, nrows=500)\n",
    "\n",
    "df[\"title\"]"
   ]
  }
 ],
 "metadata": {
  "kernelspec": {
   "display_name": "Python 3",
   "language": "python",
   "name": "python3"
  },
  "language_info": {
   "codemirror_mode": {
    "name": "ipython",
    "version": 3
   },
   "file_extension": ".py",
   "mimetype": "text/x-python",
   "name": "python",
   "nbconvert_exporter": "python",
   "pygments_lexer": "ipython3",
   "version": "3.7.7"
  },
  "pycharm": {
   "stem_cell": {
    "cell_type": "raw",
    "source": [],
    "metadata": {
     "collapsed": false
    }
   }
  }
 },
 "nbformat": 4,
 "nbformat_minor": 1
}